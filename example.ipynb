{
 "cells": [
  {
   "cell_type": "code",
   "execution_count": 22,
   "id": "c328c8d5",
   "metadata": {},
   "outputs": [],
   "source": [
    "import os\n",
    "import pandas as pd\n",
    "import numpy as np\n",
    "import matplotlib.pyplot as plt\n",
    "from matplotlib.dates import DateFormatter\n",
    "import seaborn as sns\n",
    "from tqdm.notebook import tqdm\n",
    "dataset_folder = r\"D:\\Ahmed Hafez\\Ahmed Hafez\\College\\Data Analytics\\Project\\data trial\\data\\dataset\\data\""
   ]
  },
  {
   "cell_type": "markdown",
   "id": "81aff64d",
   "metadata": {},
   "source": [
    "## 1. File Loading Functions"
   ]
  },
  {
   "cell_type": "code",
   "execution_count": 23,
   "id": "2e692a87",
   "metadata": {},
   "outputs": [],
   "source": [
    "def load_bcg_with_timestamps(file_path):\n",
    "    \"\"\"Load BCG data and generate timestamps for all samples\"\"\"\n",
    "    try:\n",
    "        # Read CSV file\n",
    "        df = pd.read_csv(file_path)\n",
    "\n",
    "        # Extract metadata from first row\n",
    "        initial_timestamp = df.at[0, 'Timestamp']\n",
    "        fs = df.at[0, 'fs']  # Sampling frequency in Hz\n",
    "        sample_interval = (1/fs) * 1000  # Milliseconds per sample\n",
    "\n",
    "        # Generate timestamps for all samples\n",
    "        timestamps = [initial_timestamp + i*sample_interval\n",
    "                      for i in range(len(df))]\n",
    "\n",
    "        # Add timestamps and clean dataframe\n",
    "        df['Timestamp'] = timestamps\n",
    "        df['Datetime'] = pd.to_datetime(df['Timestamp'], unit='ms')\n",
    "\n",
    "        return df\n",
    "\n",
    "    except Exception as e:\n",
    "        print(f\"Error processing {file_path}: {str(e)}\")\n",
    "        return None\n",
    "\n",
    "# %%\n",
    "\n",
    "\n",
    "def load_reference_rr_data(file_path):\n",
    "    \"\"\"Robust RR timestamp parser with multiple fallback options\"\"\"\n",
    "    try:\n",
    "        # Read CSV with stricter parsing\n",
    "        df = pd.read_csv(file_path, engine='python')\n",
    "\n",
    "        # Clean column names (strip whitespace)\n",
    "        df.columns = df.columns.str.strip()\n",
    "\n",
    "        # Check for required columns\n",
    "        required_cols = ['Timestamp', 'RR Interval in seconds']\n",
    "        if not all(col in df.columns for col in required_cols):\n",
    "            print(f\"Missing required columns in {file_path}\")\n",
    "            return None\n",
    "\n",
    "        # Pre-clean timestamps\n",
    "        df['Timestamp'] = df['Timestamp'].astype(str).str.strip()\n",
    "\n",
    "        # Try multiple parsing methods\n",
    "        parsed_successfully = False\n",
    "\n",
    "        # Method 1: Direct parsing with expected format\n",
    "        df['Datetime'] = pd.to_datetime(\n",
    "            df['Timestamp'],\n",
    "            format='%d-%m-%y %H:%M',\n",
    "            errors='coerce'\n",
    "        )\n",
    "\n",
    "        # Method 2: Try with different delimiters if first fails\n",
    "        if df['Datetime'].isna().all():\n",
    "            df['Datetime'] = pd.to_datetime(\n",
    "                df['Timestamp'].str.replace('-', '/'),\n",
    "                format='%d/%m/%y %H:%M',\n",
    "                errors='coerce'\n",
    "            )\n",
    "\n",
    "        # Method 3: Try parsing as day first without explicit format\n",
    "        if df['Datetime'].isna().all():\n",
    "            df['Datetime'] = pd.to_datetime(\n",
    "                df['Timestamp'],\n",
    "                dayfirst=True,\n",
    "                errors='coerce'\n",
    "            )\n",
    "\n",
    "        # Method 4: Final fallback - string manipulation\n",
    "        if df['Datetime'].isna().all():\n",
    "            try:\n",
    "                # Extract components manually\n",
    "                parts = df['Timestamp'].str.extract(\n",
    "                    r'(\\d{2})-(\\d{2})-(\\d{2}) (\\d{2}):(\\d{2})')\n",
    "                df['Datetime'] = pd.to_datetime(\n",
    "                    '20' + parts[2] + '-' + parts[1] + '-' +\n",
    "                    parts[0] + ' ' + parts[3] + ':' + parts[4],\n",
    "                    format='%Y-%m-%d %H:%M',\n",
    "                    errors='coerce'\n",
    "                )\n",
    "            except:\n",
    "                pass\n",
    "\n",
    "        # Verify parsing succeeded\n",
    "        if df['Datetime'].isna().all():\n",
    "            print(f\"Failed to parse timestamps in {file_path}\")\n",
    "            print(\"First 5 raw timestamps:\")\n",
    "            print(df['Timestamp'].head())\n",
    "            return None\n",
    "\n",
    "        # Filter out any remaining NaT values\n",
    "        df = df.dropna(subset=['Datetime'])\n",
    "\n",
    "        # Ensure proper column names\n",
    "        df = df.rename(columns={\n",
    "            'RR Interval in seconds': 'RR_Interval',\n",
    "            'Heart Rate': 'HR'\n",
    "        })\n",
    "\n",
    "        return df\n",
    "\n",
    "    except Exception as e:\n",
    "        print(f\"Error loading {file_path}: {str(e)}\")\n",
    "        return None\n",
    "\n",
    "\n",
    "def load_all_bcg_files_with_reference(root_folder):\n",
    "    \"\"\"Load all BCG files that have corresponding reference RR data\"\"\"\n",
    "    bcg_data = {}\n",
    "    file_count = 0\n",
    "\n",
    "    print(\"Loading BCG files with reference RR data...\")\n",
    "\n",
    "    for folder_num in tqdm(range(1, 33), desc=\"Folders\"):\n",
    "        folder_name = f\"{folder_num:02d}\"\n",
    "        bcg_folder = os.path.join(root_folder, folder_name, \"bcg\")\n",
    "        reference_rr_folder = os.path.join(\n",
    "            root_folder, folder_name, \"reference\", \"RR\")\n",
    "\n",
    "        # Skip if folders don't exist\n",
    "        if not os.path.exists(bcg_folder):\n",
    "            print(f\"\\nWarning: BCG folder missing for subject {folder_name}\")\n",
    "            continue\n",
    "\n",
    "        if not os.path.exists(reference_rr_folder):\n",
    "            print(\n",
    "                f\"\\nWarning: RR reference folder missing for subject {folder_name}\")\n",
    "            continue\n",
    "\n",
    "        # Process each BCG file\n",
    "        for bcg_file in os.listdir(bcg_folder):\n",
    "            if not bcg_file.lower().endswith('_bcg.csv'):\n",
    "                continue\n",
    "\n",
    "            # Construct corresponding RR filename\n",
    "            rr_file = bcg_file.replace('_BCG.csv', '_RR.csv')\n",
    "            rr_path = os.path.join(reference_rr_folder, rr_file)\n",
    "\n",
    "            if not os.path.exists(rr_path):\n",
    "                print(f\"\\nReference file not found: {rr_file}\")\n",
    "                continue\n",
    "\n",
    "            # Load both BCG and RR data\n",
    "            bcg_path = os.path.join(bcg_folder, bcg_file)\n",
    "\n",
    "            try:\n",
    "                bcg_df = load_bcg_with_timestamps(bcg_path)\n",
    "                rr_df = load_reference_rr_data(rr_path)  # NEW: Load RR data\n",
    "\n",
    "                if bcg_df is not None and rr_df is not None:\n",
    "                    bcg_data[bcg_path] = {\n",
    "                        'bcg_data': bcg_df,\n",
    "                        'rr_data': rr_df,  # NEW: Store RR DataFrame\n",
    "                        'ref_file_path': rr_path\n",
    "                    }\n",
    "                    file_count += 1\n",
    "                    print(f\"\\nMatched: {bcg_file} with {rr_file}\")\n",
    "            except Exception as e:\n",
    "                print(f\"\\nError loading {bcg_path}: {str(e)}\")\n",
    "\n",
    "    print(\n",
    "        f\"\\nSuccessfully loaded {file_count} BCG files with reference RR data\")\n",
    "    return bcg_data"
   ]
  },
  {
   "cell_type": "markdown",
   "id": "3e627553",
   "metadata": {},
   "source": [
    "## 2. Load All Data"
   ]
  },
  {
   "cell_type": "code",
   "execution_count": 24,
   "id": "4780938e",
   "metadata": {},
   "outputs": [
    {
     "name": "stdout",
     "output_type": "stream",
     "text": [
      "Loading BCG files with reference RR data...\n"
     ]
    },
    {
     "data": {
      "application/vnd.jupyter.widget-view+json": {
       "model_id": "d5502b2f05f44dabafe99fe1d5820873",
       "version_major": 2,
       "version_minor": 0
      },
      "text/plain": [
       "Folders:   0%|          | 0/32 [00:00<?, ?it/s]"
      ]
     },
     "metadata": {},
     "output_type": "display_data"
    },
    {
     "name": "stdout",
     "output_type": "stream",
     "text": [
      "\n",
      "Matched: 01_20231104_BCG.csv with 01_20231104_RR.csv\n",
      "\n",
      "Matched: 01_20231105_BCG.csv with 01_20231105_RR.csv\n",
      "\n",
      "Reference file not found: 01_20231106_RR.csv\n",
      "\n",
      "Reference file not found: 01_20231107_RR.csv\n",
      "\n",
      "Reference file not found: 01_20231108_RR.csv\n",
      "\n",
      "Reference file not found: 01_20231109_RR.csv\n",
      "\n",
      "Matched: 02_20231103_BCG.csv with 02_20231103_RR.csv\n",
      "\n",
      "Matched: 02_20231104_BCG.csv with 02_20231104_RR.csv\n",
      "\n",
      "Reference file not found: 02_20231105_RR.csv\n",
      "\n",
      "Reference file not found: 02_20231106_RR.csv\n",
      "\n",
      "Reference file not found: 02_20231107_RR.csv\n",
      "\n",
      "Reference file not found: 02_20231108_RR.csv\n",
      "\n",
      "Reference file not found: 02_20231109_RR.csv\n",
      "\n",
      "Matched: 03_20231103_BCG.csv with 03_20231103_RR.csv\n",
      "\n",
      "Matched: 03_20231105_BCG.csv with 03_20231105_RR.csv\n",
      "\n",
      "Reference file not found: 03_20231106_RR.csv\n",
      "\n",
      "Reference file not found: 03_20231107_RR.csv\n",
      "\n",
      "Reference file not found: 03_20231108_RR.csv\n",
      "\n",
      "Reference file not found: 03_20231109_RR.csv\n",
      "\n",
      "Matched: 04_20231103_BCG.csv with 04_20231103_RR.csv\n",
      "\n",
      "Matched: 04_20231104_BCG.csv with 04_20231104_RR.csv\n",
      "\n",
      "Reference file not found: 04_20231105_RR.csv\n",
      "\n",
      "Reference file not found: 04_20231106_RR.csv\n",
      "\n",
      "Reference file not found: 04_20231107_RR.csv\n",
      "\n",
      "Reference file not found: 04_20231108_RR.csv\n",
      "\n",
      "Reference file not found: 04_20231109_RR.csv\n",
      "\n",
      "Matched: 05_20231103_BCG.csv with 05_20231103_RR.csv\n",
      "\n",
      "Matched: 05_20231104_BCG.csv with 05_20231104_RR.csv\n",
      "\n",
      "Reference file not found: 05_20231105_RR.csv\n",
      "\n",
      "Reference file not found: 05_20231106_RR.csv\n",
      "\n",
      "Reference file not found: 05_20231107_RR.csv\n",
      "\n",
      "Reference file not found: 05_20231108_RR.csv\n",
      "\n",
      "Reference file not found: 05_20231109_RR.csv\n",
      "\n",
      "Matched: 06_20231110_BCG.csv with 06_20231110_RR.csv\n",
      "\n",
      "Matched: 06_20231111_BCG.csv with 06_20231111_RR.csv\n",
      "\n",
      "Reference file not found: 06_20231112_RR.csv\n",
      "\n",
      "Reference file not found: 06_20231113_RR.csv\n",
      "\n",
      "Reference file not found: 06_20231115_RR.csv\n",
      "\n",
      "Reference file not found: 06_20231116_RR.csv\n",
      "\n",
      "Matched: 07_20231111_BCG.csv with 07_20231111_RR.csv\n",
      "\n",
      "Matched: 07_20231112_BCG.csv with 07_20231112_RR.csv\n",
      "\n",
      "Reference file not found: 07_20231113_RR.csv\n",
      "\n",
      "Reference file not found: 07_20231114_RR.csv\n",
      "\n",
      "Reference file not found: 07_20231115_RR.csv\n",
      "\n",
      "Reference file not found: 07_20231116_RR.csv\n",
      "\n",
      "Matched: 08_20231110_BCG.csv with 08_20231110_RR.csv\n",
      "\n",
      "Matched: 08_20231111_BCG.csv with 08_20231111_RR.csv\n",
      "\n",
      "Reference file not found: 08_20231112_RR.csv\n",
      "\n",
      "Reference file not found: 08_20231113_RR.csv\n",
      "\n",
      "Reference file not found: 08_20231114_RR.csv\n",
      "\n",
      "Reference file not found: 08_20231115_RR.csv\n",
      "\n",
      "Reference file not found: 08_20231116_RR.csv\n",
      "\n",
      "Matched: 09_20231110_BCG.csv with 09_20231110_RR.csv\n",
      "\n",
      "Matched: 09_20231111_BCG.csv with 09_20231111_RR.csv\n",
      "\n",
      "Reference file not found: 09_20231112_RR.csv\n",
      "\n",
      "Reference file not found: 09_20231113_RR.csv\n",
      "\n",
      "Reference file not found: 09_20231114_RR.csv\n",
      "\n",
      "Reference file not found: 09_20231115_RR.csv\n",
      "\n",
      "Reference file not found: 09_20231116_RR.csv\n",
      "\n",
      "Matched: 10_20231110_BCG.csv with 10_20231110_RR.csv\n",
      "\n",
      "Matched: 10_20231111_BCG.csv with 10_20231111_RR.csv\n",
      "\n",
      "Reference file not found: 10_20231112_RR.csv\n",
      "\n",
      "Reference file not found: 10_20231113_RR.csv\n",
      "\n",
      "Reference file not found: 10_20231114_RR.csv\n",
      "\n",
      "Reference file not found: 10_20231115_RR.csv\n",
      "\n",
      "Reference file not found: 10_20231116_RR.csv\n"
     ]
    },
    {
     "name": "stderr",
     "output_type": "stream",
     "text": [
      "C:\\Users\\hafez\\AppData\\Local\\Temp\\ipykernel_31640\\2555843496.py:67: UserWarning: Parsing dates in %Y/%m/%d %H:%M:%S format when dayfirst=True was specified. Pass `dayfirst=False` or specify a format to silence this warning.\n",
      "  df['Datetime'] = pd.to_datetime(\n"
     ]
    },
    {
     "name": "stdout",
     "output_type": "stream",
     "text": [
      "\n",
      "Matched: 11_20231117_BCG.csv with 11_20231117_RR.csv\n"
     ]
    },
    {
     "name": "stderr",
     "output_type": "stream",
     "text": [
      "C:\\Users\\hafez\\AppData\\Local\\Temp\\ipykernel_31640\\2555843496.py:67: UserWarning: Parsing dates in %Y/%m/%d %H:%M:%S format when dayfirst=True was specified. Pass `dayfirst=False` or specify a format to silence this warning.\n",
      "  df['Datetime'] = pd.to_datetime(\n"
     ]
    },
    {
     "name": "stdout",
     "output_type": "stream",
     "text": [
      "\n",
      "Matched: 11_20231118_BCG.csv with 11_20231118_RR.csv\n",
      "\n",
      "Reference file not found: 11_20231119_RR.csv\n",
      "\n",
      "Reference file not found: 11_20231120_RR.csv\n",
      "\n",
      "Reference file not found: 11_20231121_RR.csv\n",
      "\n",
      "Reference file not found: 11_20231122_RR.csv\n",
      "\n",
      "Reference file not found: 11_20231123_RR.csv\n"
     ]
    },
    {
     "name": "stderr",
     "output_type": "stream",
     "text": [
      "C:\\Users\\hafez\\AppData\\Local\\Temp\\ipykernel_31640\\2555843496.py:67: UserWarning: Parsing dates in %Y/%m/%d %H:%M:%S format when dayfirst=True was specified. Pass `dayfirst=False` or specify a format to silence this warning.\n",
      "  df['Datetime'] = pd.to_datetime(\n"
     ]
    },
    {
     "name": "stdout",
     "output_type": "stream",
     "text": [
      "\n",
      "Matched: 12_20231117_BCG.csv with 12_20231117_RR.csv\n"
     ]
    },
    {
     "name": "stderr",
     "output_type": "stream",
     "text": [
      "C:\\Users\\hafez\\AppData\\Local\\Temp\\ipykernel_31640\\2555843496.py:67: UserWarning: Parsing dates in %Y/%m/%d %H:%M:%S format when dayfirst=True was specified. Pass `dayfirst=False` or specify a format to silence this warning.\n",
      "  df['Datetime'] = pd.to_datetime(\n"
     ]
    },
    {
     "name": "stdout",
     "output_type": "stream",
     "text": [
      "\n",
      "Matched: 12_20231118_BCG.csv with 12_20231118_RR.csv\n",
      "\n",
      "Reference file not found: 12_20231119_RR.csv\n",
      "\n",
      "Reference file not found: 12_20231120_RR.csv\n",
      "\n",
      "Reference file not found: 12_20231121_RR.csv\n",
      "\n",
      "Reference file not found: 12_20231122_RR.csv\n",
      "\n",
      "Reference file not found: 12_20231123_RR.csv\n",
      "\n",
      "Reference file not found: 13_20231118_RR.csv\n",
      "\n",
      "Reference file not found: 13_20231119_RR.csv\n",
      "\n",
      "Reference file not found: 13_20231120_RR.csv\n"
     ]
    },
    {
     "name": "stderr",
     "output_type": "stream",
     "text": [
      "C:\\Users\\hafez\\AppData\\Local\\Temp\\ipykernel_31640\\2555843496.py:67: UserWarning: Parsing dates in %Y/%m/%d %H:%M:%S format when dayfirst=True was specified. Pass `dayfirst=False` or specify a format to silence this warning.\n",
      "  df['Datetime'] = pd.to_datetime(\n"
     ]
    },
    {
     "name": "stdout",
     "output_type": "stream",
     "text": [
      "\n",
      "Matched: 13_20231121_BCG.csv with 13_20231121_RR.csv\n",
      "\n",
      "Reference file not found: 13_20231123_RR.csv\n"
     ]
    },
    {
     "name": "stderr",
     "output_type": "stream",
     "text": [
      "C:\\Users\\hafez\\AppData\\Local\\Temp\\ipykernel_31640\\2555843496.py:67: UserWarning: Parsing dates in %Y/%m/%d %H:%M:%S format when dayfirst=True was specified. Pass `dayfirst=False` or specify a format to silence this warning.\n",
      "  df['Datetime'] = pd.to_datetime(\n"
     ]
    },
    {
     "name": "stdout",
     "output_type": "stream",
     "text": [
      "\n",
      "Matched: 14_20231118_BCG.csv with 14_20231118_RR.csv\n",
      "\n",
      "Reference file not found: 14_20231119_RR.csv\n",
      "\n",
      "Reference file not found: 14_20231120_RR.csv\n",
      "\n",
      "Reference file not found: 14_20231121_RR.csv\n"
     ]
    },
    {
     "name": "stderr",
     "output_type": "stream",
     "text": [
      "C:\\Users\\hafez\\AppData\\Local\\Temp\\ipykernel_31640\\2555843496.py:67: UserWarning: Parsing dates in %Y/%m/%d %H:%M:%S format when dayfirst=True was specified. Pass `dayfirst=False` or specify a format to silence this warning.\n",
      "  df['Datetime'] = pd.to_datetime(\n"
     ]
    },
    {
     "name": "stdout",
     "output_type": "stream",
     "text": [
      "\n",
      "Matched: 14_20231122_BCG.csv with 14_20231122_RR.csv\n",
      "\n",
      "Reference file not found: 14_20231123_RR.csv\n"
     ]
    },
    {
     "name": "stderr",
     "output_type": "stream",
     "text": [
      "C:\\Users\\hafez\\AppData\\Local\\Temp\\ipykernel_31640\\2555843496.py:67: UserWarning: Parsing dates in %Y/%m/%d %H:%M:%S format when dayfirst=True was specified. Pass `dayfirst=False` or specify a format to silence this warning.\n",
      "  df['Datetime'] = pd.to_datetime(\n"
     ]
    },
    {
     "name": "stdout",
     "output_type": "stream",
     "text": [
      "\n",
      "Matched: 15_20231117_BCG.csv with 15_20231117_RR.csv\n",
      "\n",
      "Reference file not found: 15_20231118_RR.csv\n",
      "\n",
      "Reference file not found: 15_20231119_RR.csv\n",
      "\n",
      "Reference file not found: 15_20231120_RR.csv\n",
      "\n",
      "Reference file not found: 15_20231121_RR.csv\n",
      "\n",
      "Reference file not found: 15_20231122_RR.csv\n",
      "\n",
      "Reference file not found: 15_20231123_RR.csv\n",
      "\n",
      "Reference file not found: 16_20231124_RR.csv\n",
      "\n",
      "Reference file not found: 16_20231125_RR.csv\n",
      "\n",
      "Reference file not found: 16_20231126_RR.csv\n"
     ]
    },
    {
     "name": "stderr",
     "output_type": "stream",
     "text": [
      "C:\\Users\\hafez\\AppData\\Local\\Temp\\ipykernel_31640\\2555843496.py:67: UserWarning: Parsing dates in %Y/%m/%d %H:%M:%S format when dayfirst=True was specified. Pass `dayfirst=False` or specify a format to silence this warning.\n",
      "  df['Datetime'] = pd.to_datetime(\n"
     ]
    },
    {
     "name": "stdout",
     "output_type": "stream",
     "text": [
      "\n",
      "Matched: 16_20231127_BCG.csv with 16_20231127_RR.csv\n"
     ]
    },
    {
     "name": "stderr",
     "output_type": "stream",
     "text": [
      "C:\\Users\\hafez\\AppData\\Local\\Temp\\ipykernel_31640\\2555843496.py:67: UserWarning: Parsing dates in %Y/%m/%d %H:%M:%S format when dayfirst=True was specified. Pass `dayfirst=False` or specify a format to silence this warning.\n",
      "  df['Datetime'] = pd.to_datetime(\n"
     ]
    },
    {
     "name": "stdout",
     "output_type": "stream",
     "text": [
      "\n",
      "Matched: 16_20231128_BCG.csv with 16_20231128_RR.csv\n",
      "\n",
      "Reference file not found: 16_20231129_RR.csv\n",
      "\n",
      "Reference file not found: 16_20231130_RR.csv\n",
      "\n",
      "Reference file not found: 17_20231124_RR.csv\n",
      "\n",
      "Reference file not found: 17_20231125_RR.csv\n"
     ]
    },
    {
     "name": "stderr",
     "output_type": "stream",
     "text": [
      "C:\\Users\\hafez\\AppData\\Local\\Temp\\ipykernel_31640\\2555843496.py:67: UserWarning: Parsing dates in %Y/%m/%d %H:%M:%S format when dayfirst=True was specified. Pass `dayfirst=False` or specify a format to silence this warning.\n",
      "  df['Datetime'] = pd.to_datetime(\n"
     ]
    },
    {
     "name": "stdout",
     "output_type": "stream",
     "text": [
      "\n",
      "Matched: 17_20231126_BCG.csv with 17_20231126_RR.csv\n",
      "\n",
      "Reference file not found: 17_20231128_RR.csv\n",
      "\n",
      "Reference file not found: 17_20231129_RR.csv\n",
      "\n",
      "Reference file not found: 18_20231124_RR.csv\n",
      "\n",
      "Reference file not found: 18_20231125_RR.csv\n"
     ]
    },
    {
     "name": "stderr",
     "output_type": "stream",
     "text": [
      "C:\\Users\\hafez\\AppData\\Local\\Temp\\ipykernel_31640\\2555843496.py:67: UserWarning: Parsing dates in %Y/%m/%d %H:%M:%S format when dayfirst=True was specified. Pass `dayfirst=False` or specify a format to silence this warning.\n",
      "  df['Datetime'] = pd.to_datetime(\n"
     ]
    },
    {
     "name": "stdout",
     "output_type": "stream",
     "text": [
      "\n",
      "Matched: 18_20231126_BCG.csv with 18_20231126_RR.csv\n"
     ]
    },
    {
     "name": "stderr",
     "output_type": "stream",
     "text": [
      "C:\\Users\\hafez\\AppData\\Local\\Temp\\ipykernel_31640\\2555843496.py:67: UserWarning: Parsing dates in %Y/%m/%d %H:%M:%S format when dayfirst=True was specified. Pass `dayfirst=False` or specify a format to silence this warning.\n",
      "  df['Datetime'] = pd.to_datetime(\n"
     ]
    },
    {
     "name": "stdout",
     "output_type": "stream",
     "text": [
      "\n",
      "Matched: 18_20231127_BCG.csv with 18_20231127_RR.csv\n"
     ]
    },
    {
     "name": "stderr",
     "output_type": "stream",
     "text": [
      "C:\\Users\\hafez\\AppData\\Local\\Temp\\ipykernel_31640\\2555843496.py:67: UserWarning: Parsing dates in %Y/%m/%d %H:%M:%S format when dayfirst=True was specified. Pass `dayfirst=False` or specify a format to silence this warning.\n",
      "  df['Datetime'] = pd.to_datetime(\n"
     ]
    },
    {
     "name": "stdout",
     "output_type": "stream",
     "text": [
      "\n",
      "Matched: 18_20231128_BCG.csv with 18_20231128_RR.csv\n",
      "\n",
      "Reference file not found: 18_20231129_RR.csv\n",
      "\n",
      "Reference file not found: 18_20231130_RR.csv\n",
      "\n",
      "Reference file not found: 19_20231124_RR.csv\n",
      "\n",
      "Reference file not found: 19_20231125_RR.csv\n"
     ]
    },
    {
     "name": "stderr",
     "output_type": "stream",
     "text": [
      "C:\\Users\\hafez\\AppData\\Local\\Temp\\ipykernel_31640\\2555843496.py:67: UserWarning: Parsing dates in %Y/%m/%d %H:%M:%S format when dayfirst=True was specified. Pass `dayfirst=False` or specify a format to silence this warning.\n",
      "  df['Datetime'] = pd.to_datetime(\n"
     ]
    },
    {
     "name": "stdout",
     "output_type": "stream",
     "text": [
      "\n",
      "Matched: 19_20231126_BCG.csv with 19_20231126_RR.csv\n"
     ]
    },
    {
     "name": "stderr",
     "output_type": "stream",
     "text": [
      "C:\\Users\\hafez\\AppData\\Local\\Temp\\ipykernel_31640\\2555843496.py:67: UserWarning: Parsing dates in %Y/%m/%d %H:%M:%S format when dayfirst=True was specified. Pass `dayfirst=False` or specify a format to silence this warning.\n",
      "  df['Datetime'] = pd.to_datetime(\n"
     ]
    },
    {
     "name": "stdout",
     "output_type": "stream",
     "text": [
      "\n",
      "Matched: 19_20231127_BCG.csv with 19_20231127_RR.csv\n",
      "\n",
      "Reference file not found: 19_20231128_RR.csv\n",
      "\n",
      "Reference file not found: 19_20231129_RR.csv\n",
      "\n",
      "Reference file not found: 19_20231130_RR.csv\n",
      "\n",
      "Reference file not found: 20_20231124_RR.csv\n",
      "\n",
      "Reference file not found: 20_20231125_RR.csv\n",
      "\n",
      "Reference file not found: 20_20231126_RR.csv\n"
     ]
    },
    {
     "name": "stderr",
     "output_type": "stream",
     "text": [
      "C:\\Users\\hafez\\AppData\\Local\\Temp\\ipykernel_31640\\2555843496.py:67: UserWarning: Parsing dates in %Y/%m/%d %H:%M:%S format when dayfirst=True was specified. Pass `dayfirst=False` or specify a format to silence this warning.\n",
      "  df['Datetime'] = pd.to_datetime(\n"
     ]
    },
    {
     "name": "stdout",
     "output_type": "stream",
     "text": [
      "\n",
      "Matched: 20_20231127_BCG.csv with 20_20231127_RR.csv\n"
     ]
    },
    {
     "name": "stderr",
     "output_type": "stream",
     "text": [
      "C:\\Users\\hafez\\AppData\\Local\\Temp\\ipykernel_31640\\2555843496.py:67: UserWarning: Parsing dates in %Y/%m/%d %H:%M:%S format when dayfirst=True was specified. Pass `dayfirst=False` or specify a format to silence this warning.\n",
      "  df['Datetime'] = pd.to_datetime(\n"
     ]
    },
    {
     "name": "stdout",
     "output_type": "stream",
     "text": [
      "\n",
      "Matched: 20_20231128_BCG.csv with 20_20231128_RR.csv\n",
      "\n",
      "Reference file not found: 20_20231129_RR.csv\n",
      "\n",
      "Reference file not found: 20_20231130_RR.csv\n",
      "\n",
      "Warning: RR reference folder missing for subject 21\n",
      "\n",
      "Warning: RR reference folder missing for subject 22\n",
      "\n",
      "Warning: RR reference folder missing for subject 23\n",
      "\n",
      "Warning: RR reference folder missing for subject 24\n",
      "\n",
      "Warning: RR reference folder missing for subject 25\n",
      "\n",
      "Warning: RR reference folder missing for subject 26\n",
      "\n",
      "Warning: RR reference folder missing for subject 27\n",
      "\n",
      "Warning: RR reference folder missing for subject 28\n",
      "\n",
      "Warning: RR reference folder missing for subject 29\n",
      "\n",
      "Warning: RR reference folder missing for subject 30\n",
      "\n",
      "Reference file not found: 31_20240115_RR.csv\n",
      "\n",
      "Reference file not found: 31_20240116_RR.csv\n",
      "\n",
      "Reference file not found: 31_20240117_RR.csv\n",
      "\n",
      "Reference file not found: 31_20240118_RR.csv\n",
      "\n",
      "Reference file not found: 31_20240119_RR.csv\n"
     ]
    },
    {
     "name": "stderr",
     "output_type": "stream",
     "text": [
      "C:\\Users\\hafez\\AppData\\Local\\Temp\\ipykernel_31640\\2555843496.py:67: UserWarning: Parsing dates in %Y/%m/%d %H:%M:%S format when dayfirst=True was specified. Pass `dayfirst=False` or specify a format to silence this warning.\n",
      "  df['Datetime'] = pd.to_datetime(\n"
     ]
    },
    {
     "name": "stdout",
     "output_type": "stream",
     "text": [
      "\n",
      "Matched: 31_20240120_BCG.csv with 31_20240120_RR.csv\n"
     ]
    },
    {
     "name": "stderr",
     "output_type": "stream",
     "text": [
      "C:\\Users\\hafez\\AppData\\Local\\Temp\\ipykernel_31640\\2555843496.py:67: UserWarning: Parsing dates in %Y/%m/%d %H:%M:%S format when dayfirst=True was specified. Pass `dayfirst=False` or specify a format to silence this warning.\n",
      "  df['Datetime'] = pd.to_datetime(\n"
     ]
    },
    {
     "name": "stdout",
     "output_type": "stream",
     "text": [
      "\n",
      "Matched: 31_20240121_BCG.csv with 31_20240121_RR.csv\n",
      "\n",
      "Reference file not found: 32_20240122_RR.csv\n",
      "\n",
      "Reference file not found: 32_20240123_RR.csv\n",
      "\n",
      "Reference file not found: 32_20240124_RR.csv\n",
      "\n",
      "Reference file not found: 32_20240125_RR.csv\n",
      "\n",
      "Reference file not found: 32_20240126_RR.csv\n"
     ]
    },
    {
     "name": "stderr",
     "output_type": "stream",
     "text": [
      "C:\\Users\\hafez\\AppData\\Local\\Temp\\ipykernel_31640\\2555843496.py:67: UserWarning: Parsing dates in %Y/%m/%d %H:%M:%S format when dayfirst=True was specified. Pass `dayfirst=False` or specify a format to silence this warning.\n",
      "  df['Datetime'] = pd.to_datetime(\n"
     ]
    },
    {
     "name": "stdout",
     "output_type": "stream",
     "text": [
      "\n",
      "Matched: 32_20240127_BCG.csv with 32_20240127_RR.csv\n",
      "\n",
      "Matched: 32_20240128_BCG.csv with 32_20240128_RR.csv\n",
      "\n",
      "Successfully loaded 42 BCG files with reference RR data\n",
      "\n",
      "Successfully loaded the following BCG files with references:\n",
      "1. 01_20231104_BCG.csv\n",
      "   Reference: 01_20231104_RR.csv\n",
      "2. 01_20231105_BCG.csv\n",
      "   Reference: 01_20231105_RR.csv\n",
      "3. 02_20231103_BCG.csv\n",
      "   Reference: 02_20231103_RR.csv\n",
      "4. 02_20231104_BCG.csv\n",
      "   Reference: 02_20231104_RR.csv\n",
      "5. 03_20231103_BCG.csv\n",
      "   Reference: 03_20231103_RR.csv\n",
      "6. 03_20231105_BCG.csv\n",
      "   Reference: 03_20231105_RR.csv\n",
      "7. 04_20231103_BCG.csv\n",
      "   Reference: 04_20231103_RR.csv\n",
      "8. 04_20231104_BCG.csv\n",
      "   Reference: 04_20231104_RR.csv\n",
      "9. 05_20231103_BCG.csv\n",
      "   Reference: 05_20231103_RR.csv\n",
      "10. 05_20231104_BCG.csv\n",
      "   Reference: 05_20231104_RR.csv\n",
      "11. 06_20231110_BCG.csv\n",
      "   Reference: 06_20231110_RR.csv\n",
      "12. 06_20231111_BCG.csv\n",
      "   Reference: 06_20231111_RR.csv\n",
      "13. 07_20231111_BCG.csv\n",
      "   Reference: 07_20231111_RR.csv\n",
      "14. 07_20231112_BCG.csv\n",
      "   Reference: 07_20231112_RR.csv\n",
      "15. 08_20231110_BCG.csv\n",
      "   Reference: 08_20231110_RR.csv\n",
      "16. 08_20231111_BCG.csv\n",
      "   Reference: 08_20231111_RR.csv\n",
      "17. 09_20231110_BCG.csv\n",
      "   Reference: 09_20231110_RR.csv\n",
      "18. 09_20231111_BCG.csv\n",
      "   Reference: 09_20231111_RR.csv\n",
      "19. 10_20231110_BCG.csv\n",
      "   Reference: 10_20231110_RR.csv\n",
      "20. 10_20231111_BCG.csv\n",
      "   Reference: 10_20231111_RR.csv\n",
      "21. 11_20231117_BCG.csv\n",
      "   Reference: 11_20231117_RR.csv\n",
      "22. 11_20231118_BCG.csv\n",
      "   Reference: 11_20231118_RR.csv\n",
      "23. 12_20231117_BCG.csv\n",
      "   Reference: 12_20231117_RR.csv\n",
      "24. 12_20231118_BCG.csv\n",
      "   Reference: 12_20231118_RR.csv\n",
      "25. 13_20231121_BCG.csv\n",
      "   Reference: 13_20231121_RR.csv\n",
      "26. 14_20231118_BCG.csv\n",
      "   Reference: 14_20231118_RR.csv\n",
      "27. 14_20231122_BCG.csv\n",
      "   Reference: 14_20231122_RR.csv\n",
      "28. 15_20231117_BCG.csv\n",
      "   Reference: 15_20231117_RR.csv\n",
      "29. 16_20231127_BCG.csv\n",
      "   Reference: 16_20231127_RR.csv\n",
      "30. 16_20231128_BCG.csv\n",
      "   Reference: 16_20231128_RR.csv\n",
      "31. 17_20231126_BCG.csv\n",
      "   Reference: 17_20231126_RR.csv\n",
      "32. 18_20231126_BCG.csv\n",
      "   Reference: 18_20231126_RR.csv\n",
      "33. 18_20231127_BCG.csv\n",
      "   Reference: 18_20231127_RR.csv\n",
      "34. 18_20231128_BCG.csv\n",
      "   Reference: 18_20231128_RR.csv\n",
      "35. 19_20231126_BCG.csv\n",
      "   Reference: 19_20231126_RR.csv\n",
      "36. 19_20231127_BCG.csv\n",
      "   Reference: 19_20231127_RR.csv\n",
      "37. 20_20231127_BCG.csv\n",
      "   Reference: 20_20231127_RR.csv\n",
      "38. 20_20231128_BCG.csv\n",
      "   Reference: 20_20231128_RR.csv\n",
      "39. 31_20240120_BCG.csv\n",
      "   Reference: 31_20240120_RR.csv\n",
      "40. 31_20240121_BCG.csv\n",
      "   Reference: 31_20240121_RR.csv\n",
      "41. 32_20240127_BCG.csv\n",
      "   Reference: 32_20240127_RR.csv\n",
      "42. 32_20240128_BCG.csv\n",
      "   Reference: 32_20240128_RR.csv\n"
     ]
    },
    {
     "name": "stderr",
     "output_type": "stream",
     "text": [
      "C:\\Users\\hafez\\AppData\\Local\\Temp\\ipykernel_31640\\2555843496.py:67: UserWarning: Parsing dates in %Y/%m/%d %H:%M:%S format when dayfirst=True was specified. Pass `dayfirst=False` or specify a format to silence this warning.\n",
      "  df['Datetime'] = pd.to_datetime(\n"
     ]
    }
   ],
   "source": [
    "# Load the data\n",
    "all_bcg_data_with_ref = load_all_bcg_files_with_reference(dataset_folder)\n",
    "\n",
    "# Print summary\n",
    "if all_bcg_data_with_ref:\n",
    "    print(\"\\nSuccessfully loaded the following BCG files with references:\")\n",
    "    for i, (bcg_path, data) in enumerate(all_bcg_data_with_ref.items()):\n",
    "        print(f\"{i+1}. {os.path.basename(bcg_path)}\")\n",
    "        print(f\"   Reference: {os.path.basename(data['ref_file_path'])}\")\n",
    "else:\n",
    "    print(\"\\nNo matching BCG and reference files found. Please check:\")\n",
    "    print(\"1. The folder structure is correct\")\n",
    "    print(\"2. Files follow the naming convention: [name]_BCG.csv and [name]_RR.csv\")\n",
    "    print(\"3. Both files exist in their respective folders\")\n",
    "    "
   ]
  },
  {
   "cell_type": "markdown",
   "id": "29a18002",
   "metadata": {},
   "source": [
    "## 3. Data Visualization"
   ]
  },
  {
   "cell_type": "code",
   "execution_count": 25,
   "id": "b30bd050",
   "metadata": {},
   "outputs": [
    {
     "name": "stdout",
     "output_type": "stream",
     "text": [
      "BCG Data Columns: Index(['BCG', 'Timestamp', 'fs', 'Datetime'], dtype='object')\n",
      "RR Data Columns: Index(['Timestamp', 'HR', 'RR_Interval', 'Datetime'], dtype='object')\n"
     ]
    },
    {
     "data": {
      "image/png": "[encoded data removed]",
      "text/plain": [
       "<Figure size 1500x500 with 1 Axes>"
      ]
     },
     "metadata": {},
     "output_type": "display_data"
    }
   ],
   "source": [
    "def plot_bcg_signal(data_dict, title=\"BCG Signal\", samples_to_plot=1000):\n",
    "    \"\"\"Plot a segment of BCG data with proper timestamps\"\"\"\n",
    "    plt.figure(figsize=(15, 5))\n",
    "\n",
    "    # Extract the DataFrame from the dictionary\n",
    "    df = data_dict['bcg_data']\n",
    "\n",
    "    # Plot first n samples\n",
    "    plot_df = df.head(samples_to_plot)\n",
    "\n",
    "    plt.plot(plot_df['Datetime'], plot_df['BCG'],\n",
    "             linewidth=1, alpha=0.8)\n",
    "\n",
    "    # Format x-axis\n",
    "    ax = plt.gca()\n",
    "    ax.xaxis.set_major_formatter(DateFormatter('%H:%M:%S.%f'))\n",
    "    plt.xticks(rotation=45)\n",
    "\n",
    "    plt.title(f\"{title} (First {samples_to_plot} samples)\")\n",
    "    plt.ylabel(\"BCG Amplitude\")\n",
    "    plt.xlabel(\"Time\")\n",
    "    plt.grid(True, alpha=0.3)\n",
    "    plt.tight_layout()\n",
    "    plt.show()\n",
    "\n",
    "\n",
    "# %%\n",
    "# Plot first file as example\n",
    "if all_bcg_data_with_ref:\n",
    "    first_file_data = next(iter(all_bcg_data_with_ref.values()))\n",
    "    print(\"BCG Data Columns:\", first_file_data['bcg_data'].columns)\n",
    "    # Now available\n",
    "    print(\"RR Data Columns:\", first_file_data['rr_data'].columns)\n",
    "    plot_bcg_signal(first_file_data, title=\"BCG Signal Example\",\n",
    "                    samples_to_plot=1000)"
   ]
  },
  {
   "cell_type": "markdown",
   "id": "3dc6b8b2",
   "metadata": {},
   "source": [
    "## 4. Synchronize Data"
   ]
  },
  {
   "cell_type": "code",
   "execution_count": 26,
   "id": "cd075f56",
   "metadata": {},
   "outputs": [],
   "source": [
    "def check_time_alignment(bcg_data, rr_data):\n",
    "    \"\"\"Verify if BCG and RR data overlap in time\"\"\"\n",
    "    bcg_start = bcg_data['Datetime'].min()\n",
    "    bcg_end = bcg_data['Datetime'].max()\n",
    "    rr_start = rr_data['Datetime'].min()\n",
    "    rr_end = rr_data['Datetime'].max()\n",
    "    \n",
    "    print(f\"BCG Range: {bcg_start} to {bcg_end}\")\n",
    "    print(f\"RR Range:  {rr_start} to {rr_end}\")\n",
    "    \n",
    "    if rr_start > bcg_end or rr_end < bcg_start:\n",
    "        print(\"Warning: No temporal overlap between BCG and RR data!\")\n",
    "        return False\n",
    "    return True"
   ]
  },
  {
   "cell_type": "code",
   "execution_count": 27,
   "id": "859fe267",
   "metadata": {},
   "outputs": [],
   "source": [
    "def synchronize_data(bcg_data, rr_data):\n",
    "    \"\"\"Align BCG and RR data based on timestamps\"\"\"\n",
    "    # Convert to pandas DateTimeIndex for both datasets\n",
    "    bcg_times = pd.DatetimeIndex(bcg_data['Datetime'])\n",
    "    rr_times = pd.DatetimeIndex(rr_data['Datetime'])\n",
    "    \n",
    "    # Find overlapping period\n",
    "    start_time = max(bcg_times.min(), rr_times.min())\n",
    "    end_time = min(bcg_times.max(), rr_times.max())\n",
    "    \n",
    "    # Filter both datasets to overlapping period\n",
    "    bcg_sync = bcg_data[bcg_data['Datetime'].between(start_time, end_time)]\n",
    "    rr_sync = rr_data[rr_data['Datetime'].between(start_time, end_time)]\n",
    "    \n",
    "    return {\n",
    "        'bcg': bcg_sync,\n",
    "        'rr': rr_sync,\n",
    "        'start_time': start_time,\n",
    "        'end_time': end_time\n",
    "    }"
   ]
  },
  {
   "cell_type": "code",
   "execution_count": 28,
   "id": "aa54a33e",
   "metadata": {},
   "outputs": [
    {
     "name": "stdout",
     "output_type": "stream",
     "text": [
      "BCG Range: 2023-11-03 14:35:12.866000 to 2023-11-03 21:48:54.344571533\n",
      "RR Range:  2023-03-11 22:39:15 to 2023-04-11 05:45:52\n",
      "Warning: No temporal overlap between BCG and RR data!\n",
      "BCG Range: 2023-11-04 11:17:35.239000 to 2023-11-04 22:05:51.624714355\n",
      "RR Range:  2023-04-11 19:12:20 to 2023-05-11 06:01:22\n",
      "Warning: No temporal overlap between BCG and RR data!\n",
      "BCG Range: 2023-11-02 15:12:32.363000 to 2023-11-03 00:13:22.763000\n",
      "RR Range:  2023-02-11 23:13:17 to 2023-03-11 08:11:23\n",
      "Warning: No temporal overlap between BCG and RR data!\n",
      "BCG Range: 2023-11-03 15:34:23.797000 to 2023-11-03 23:56:26.447000\n",
      "RR Range:  2023-03-11 23:31:41 to 2023-04-11 07:54:04\n",
      "Warning: No temporal overlap between BCG and RR data!\n",
      "BCG Range: 2023-11-02 17:20:33.341000 to 2023-11-03 00:00:02.383857178\n",
      "RR Range:  2023-03-11 01:17:32 to 2023-03-11 07:55:27\n",
      "Warning: No temporal overlap between BCG and RR data!\n",
      "BCG Range: 2023-11-04 15:47:49.870000 to 2023-11-05 01:30:00.655714355\n",
      "RR Range:  2023-05-11 00:03:48 to 2023-05-11 09:29:33\n",
      "Warning: No temporal overlap between BCG and RR data!\n",
      "BCG Range: 2023-11-02 15:18:01.526000 to 2023-11-03 00:31:55.840285645\n",
      "RR Range:  2023-02-11 23:24:10 to 2023-03-11 09:04:49\n",
      "Warning: No temporal overlap between BCG and RR data!\n",
      "BCG Range: 2023-11-03 16:31:18.114000 to 2023-11-04 01:35:14.985428467\n",
      "RR Range:  2023-04-11 00:17:13 to 2023-04-11 10:25:09\n",
      "Warning: No temporal overlap between BCG and RR data!\n",
      "BCG Range: 2023-11-02 15:16:39.380000 to 2023-11-02 23:30:16.965714355\n",
      "RR Range:  2023-02-11 23:36:22 to 2023-03-11 07:48:39\n",
      "Warning: No temporal overlap between BCG and RR data!\n",
      "BCG Range: 2023-11-03 15:15:28.717000 to 2023-11-04 01:06:40.609857178\n",
      "RR Range:  2023-03-11 23:11:19 to 2023-04-11 09:03:36\n",
      "Warning: No temporal overlap between BCG and RR data!\n",
      "BCG Range: 2023-11-09 16:03:43.880000 to 2023-11-09 23:51:25.244285645\n",
      "RR Range:  2023-09-11 23:52:15 to 2023-10-11 07:50:57\n",
      "Warning: No temporal overlap between BCG and RR data!\n",
      "BCG Range: 2023-11-10 15:00:06.492000 to 2023-11-10 23:00:45.156285645\n",
      "RR Range:  2023-10-11 23:37:36 to 2023-11-11 07:28:00\n",
      "BCG Range: 2023-11-10 14:05:43.029000 to 2023-11-11 03:01:13.321857178\n",
      "RR Range:  2023-10-11 22:07:51 to 2023-11-11 10:59:22\n",
      "BCG Range: 2023-11-11 14:18:05.547000 to 2023-11-12 00:12:35.354142822\n",
      "RR Range:  2023-11-11 22:18:50 to 2023-12-11 08:11:04\n",
      "BCG Range: 2023-11-09 16:45:08.410000 to 2023-11-10 00:10:52.560000\n",
      "RR Range:  2023-10-11 00:53:10 to 2023-10-11 08:11:04\n",
      "Warning: No temporal overlap between BCG and RR data!\n",
      "BCG Range: 2023-11-10 16:12:52.419000 to 2023-11-11 00:52:41.161857178\n",
      "RR Range:  2023-11-11 00:11:34 to 2023-11-11 08:51:29\n",
      "BCG Range: 2023-11-09 15:32:35.018000 to 2023-11-10 01:44:50.453714355\n",
      "RR Range:  2023-09-11 23:26:00 to 2023-10-11 09:29:45\n",
      "Warning: No temporal overlap between BCG and RR data!\n",
      "BCG Range: 2023-11-10 16:10:04.842000 to 2023-11-11 00:57:52.856285645\n",
      "RR Range:  2023-10-11 23:59:04 to 2023-11-11 08:54:22\n",
      "BCG Range: 2023-11-09 15:34:43.341000 to 2023-11-09 23:05:48.733857178\n",
      "RR Range:  2023-09-11 23:03:10 to 2023-10-11 07:07:58\n",
      "Warning: No temporal overlap between BCG and RR data!\n",
      "BCG Range: 2023-11-10 15:12:09.010000 to 2023-11-10 23:06:35.295714355\n",
      "RR Range:  2023-10-11 23:11:49 to 2023-11-11 07:03:49\n",
      "BCG Range: 2023-11-16 15:18:01.749000 to 2023-11-16 22:33:47.399000\n",
      "RR Range:  2023-11-16 23:02:25 to 2023-11-17 06:49:24\n",
      "Warning: No temporal overlap between BCG and RR data!\n",
      "BCG Range: 2023-11-17 16:14:45.718000 to 2023-11-18 00:08:37.782285645\n",
      "RR Range:  2023-11-18 00:07:35 to 2023-11-18 08:13:40\n",
      "BCG Range: 2023-11-16 15:44:06.528000 to 2023-11-17 00:03:44.392285645\n",
      "RR Range:  2023-11-16 22:43:11 to 2023-11-17 08:16:47\n",
      "BCG Range: 2023-11-17 16:56:43.448000 to 2023-11-18 00:54:55.526571533\n",
      "RR Range:  2023-11-17 23:45:15 to 2023-11-18 09:13:49\n",
      "BCG Range: 2023-11-20 18:07:42.864000 to 2023-11-21 01:05:00.799714355\n",
      "RR Range:  2023-11-21 02:04:59 to 2023-11-21 09:02:46\n",
      "Warning: No temporal overlap between BCG and RR data!\n",
      "BCG Range: 2023-11-17 14:54:36.373000 to 2023-11-18 00:27:26.458714355\n",
      "RR Range:  2023-11-17 22:56:01 to 2023-11-18 08:38:43\n",
      "BCG Range: 2023-11-21 14:16:17.504000 to 2023-11-22 00:41:03.175428467\n",
      "RR Range:  2023-11-21 22:13:59 to 2023-11-22 08:40:31\n",
      "BCG Range: 2023-11-16 15:17:25.491000 to 2023-11-17 00:14:31.105285645\n",
      "RR Range:  2023-11-16 23:14:10 to 2023-11-17 08:09:12\n",
      "BCG Range: 2023-11-26 15:56:51.218000 to 2023-11-27 01:33:58.246571533\n",
      "RR Range:  2023-11-26 23:43:52 to 2023-11-27 09:45:14\n",
      "BCG Range: 2023-11-27 15:12:35.675000 to 2023-11-28 01:25:42.682142822\n",
      "RR Range:  2023-11-27 22:59:36 to 2023-11-28 09:41:51\n",
      "BCG Range: 2023-11-25 16:44:45.668000 to 2023-11-26 00:42:50.503714355\n",
      "RR Range:  2023-11-26 00:41:09 to 2023-11-26 08:50:57\n",
      "BCG Range: 2023-11-25 15:16:28.572000 to 2023-11-25 23:10:00.064857178\n",
      "RR Range:  2023-11-25 23:07:26 to 2023-11-26 07:00:53\n",
      "BCG Range: 2023-11-26 15:31:37.002000 to 2023-11-26 23:43:19.387714355\n",
      "RR Range:  2023-11-26 23:32:26 to 2023-11-27 07:17:25\n",
      "BCG Range: 2023-11-27 14:58:27.155000 to 2023-11-28 00:00:14.990714355\n",
      "RR Range:  2023-11-27 23:00:57 to 2023-11-28 07:14:50\n",
      "BCG Range: 2023-11-25 15:36:20.106000 to 2023-11-26 00:39:32.798857178\n",
      "RR Range:  2023-11-25 23:33:14 to 2023-11-26 08:58:31\n",
      "BCG Range: 2023-11-26 15:34:29.191000 to 2023-11-27 01:00:20.255285645\n",
      "RR Range:  2023-11-26 23:33:55 to 2023-11-27 09:08:52\n",
      "BCG Range: 2023-11-26 17:27:53.487000 to 2023-11-27 00:56:11.694142822\n",
      "RR Range:  2023-11-27 01:15:53 to 2023-11-27 09:08:16\n",
      "Warning: No temporal overlap between BCG and RR data!\n",
      "BCG Range: 2023-11-27 16:38:28.180000 to 2023-11-27 23:41:00.637142822\n",
      "RR Range:  2023-11-28 00:21:06 to 2023-11-28 07:42:28\n",
      "Warning: No temporal overlap between BCG and RR data!\n",
      "BCG Range: 2024-01-19 16:53:36.989000 to 2024-01-20 02:42:20.646142822\n",
      "RR Range:  2024-01-20 00:52:12 to 2024-01-20 10:40:28\n",
      "BCG Range: 2024-01-20 16:42:44.837000 to 2024-01-21 01:19:59.979857178\n",
      "RR Range:  2024-01-21 00:42:04 to 2024-01-21 09:18:45\n",
      "BCG Range: 2024-01-26 16:53:18.555000 to 2024-01-27 00:32:02.447857178\n",
      "RR Range:  2024-01-27 00:50:25 to 2024-01-27 08:28:56\n",
      "Warning: No temporal overlap between BCG and RR data!\n",
      "BCG Range: 2024-01-27 17:43:40.805000 to 2024-01-28 00:36:19.269285645\n",
      "RR Range:  2024-01-28 01:33:12 to 2024-01-28 08:33:03\n",
      "Warning: No temporal overlap between BCG and RR data!\n"
     ]
    }
   ],
   "source": [
    "# After loading data, for each subject:\n",
    "for bcg_path, data in all_bcg_data_with_ref.items():\n",
    "    bcg_df = data['bcg_data']\n",
    "    rr_df = data['rr_data']\n",
    "    \n",
    "    # Check alignment first\n",
    "    if not check_time_alignment(bcg_df, rr_df):\n",
    "        continue\n",
    "    \n",
    "    # Synchronize data\n",
    "    synchronized = synchronize_data(bcg_df, rr_df)\n",
    "    \n",
    "    # Update the dictionary with synchronized data\n",
    "    all_bcg_data_with_ref[bcg_path]['sync_data'] = synchronized"
   ]
  }
 ],
 "metadata": {
  "kernelspec": {
   "display_name": "Python 3",
   "language": "python",
   "name": "python3"
  },
  "language_info": {
   "codemirror_mode": {
    "name": "ipython",
    "version": 3
   },
   "file_extension": ".py",
   "mimetype": "text/x-python",
   "name": "python",
   "nbconvert_exporter": "python",
   "pygments_lexer": "ipython3",
   "version": "3.12.6"
  }
 },
 "nbformat": 4,
 "nbformat_minor": 5
}
